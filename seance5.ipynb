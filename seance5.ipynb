{
  "nbformat": 4,
  "nbformat_minor": 0,
  "metadata": {
    "kernelspec": {
      "name": "Python 3.8.5 32-bit",
      "display_name": "Python 3.8.5 32-bit",
      "metadata": {
        "interpreter": {
          "hash": "c9ba0c4a5af8269c496dad2a440da0741b8e4cd992915eed58c521d280844af4"
        }
      }
    },
    "language_info": {
      "codemirror_mode": {
        "name": "ipython",
        "version": 3
      },
      "file_extension": ".py",
      "mimetype": "text/x-python",
      "name": "python",
      "nbconvert_exporter": "python",
      "pygments_lexer": "ipython3",
      "version": "3.8.5-final"
    },
    "colab": {
      "name": "seance5.ipynb",
      "provenance": []
    }
  },
  "cells": [
    {
      "cell_type": "markdown",
      "metadata": {
        "id": "8TUxw8nJiOcl"
      },
      "source": [
        "Ex1:\n",
        "    \n",
        "1. Ecrire une fonction qui prend en entrée une fonction f et des réels a et h et donne en sortie le taux de variation (ou d'accroissement) de la fonction f entre le point d'abscisse a+h et a.\n",
        "2. Tester avec f(x)=3x^3+1x^2-5"
      ]
    },
    {
      "cell_type": "code",
      "execution_count": 23,
      "metadata": {},
      "outputs": [
        {
          "output_type": "stream",
          "name": "stdout",
          "text": [
            "43.0\n"
          ]
        }
      ],
      "source": [
        "def cal_tauxvariation(f,a,h):\n",
        "    tauxvariation=(f(a+h)-f(a))/h\n",
        "    return tauxvariation\n",
        "\n",
        "from sympy.utilities.lambdify import lambdify\n",
        "from sympy.abc import x, y, z\n",
        "f = lambdify(x, 3*x**3 +x**2 -5)\n",
        "print(cal_tauxvariation(f,1,2))"
      ]
    },
    {
      "cell_type": "markdown",
      "metadata": {
        "id": "bBJuriUQiOcw"
      },
      "source": [
        "Ex2:\n",
        "1. Ecrire une fonction qui calcule la liste des coefficients directeurs pour une fonction f définit sur I=[a;b] avec un pas \"p\"\n",
        "2. Tester avec f(x)=(1+x)/(x-4) définit sur I=[0,1] avec un pas de 0.01"
      ]
    },
    {
      "cell_type": "code",
      "metadata": {
        "id": "k-SbwCd1iOc0"
      },
      "source": [
        "def coefdirecteur(fn, a, b,p):\n",
        "    coef = []\n",
        "    # on ajoute à la liste le coef directeur entre l'intervall avec un pas p\n",
        "    for i in range(a,b,p):\n",
        "        # faire un coef.push\n",
        "\n",
        "        return coef\n",
        "\n",
        "def fn(x):\n",
        "    return (1+x)/(x-4)\n",
        "\n",
        "coef(fn, 0, 1, 2)"
      ],
      "execution_count": 65,
      "outputs": [
        {
          "output_type": "error",
          "ename": "NameError",
          "evalue": "name 'coef' is not defined",
          "traceback": [
            "\u001b[1;31m---------------------------------------------------------------------------\u001b[0m",
            "\u001b[1;31mNameError\u001b[0m                                 Traceback (most recent call last)",
            "\u001b[1;32m<ipython-input-65-86003843bd71>\u001b[0m in \u001b[0;36m<module>\u001b[1;34m\u001b[0m\n\u001b[0;32m     10\u001b[0m     \u001b[1;32mreturn\u001b[0m \u001b[1;33m(\u001b[0m\u001b[1;36m1\u001b[0m\u001b[1;33m+\u001b[0m\u001b[0mx\u001b[0m\u001b[1;33m)\u001b[0m\u001b[1;33m/\u001b[0m\u001b[1;33m(\u001b[0m\u001b[0mx\u001b[0m\u001b[1;33m-\u001b[0m\u001b[1;36m4\u001b[0m\u001b[1;33m)\u001b[0m\u001b[1;33m\u001b[0m\u001b[1;33m\u001b[0m\u001b[0m\n\u001b[0;32m     11\u001b[0m \u001b[1;33m\u001b[0m\u001b[0m\n\u001b[1;32m---> 12\u001b[1;33m \u001b[0mcoef\u001b[0m\u001b[1;33m(\u001b[0m\u001b[0mfn\u001b[0m\u001b[1;33m,\u001b[0m \u001b[1;36m0\u001b[0m\u001b[1;33m,\u001b[0m \u001b[1;36m1\u001b[0m\u001b[1;33m,\u001b[0m \u001b[1;36m2\u001b[0m\u001b[1;33m)\u001b[0m\u001b[1;33m\u001b[0m\u001b[1;33m\u001b[0m\u001b[0m\n\u001b[0m",
            "\u001b[1;31mNameError\u001b[0m: name 'coef' is not defined"
          ]
        }
      ]
    },
    {
      "cell_type": "markdown",
      "metadata": {
        "id": "2AxHHvyxiOc5"
      },
      "source": [
        "Ex3:\n",
        "on considère une suite U définie par Un+1=Un+n+1 et de premier terme U0. Ecrire une fonction qui prend en entrée les valeurs de n et U0 et affiche la valeur de Un.\n",
        "1. De facon iterative\n",
        "2. Par recurence"
      ]
    },
    {
      "cell_type": "code",
      "metadata": {
        "id": "yE_s3APoiOc7"
      },
      "source": [
        "def afficherec(n, U0): \n",
        "\n",
        "    if n == 0:\n",
        "        return U0\n",
        "\n",
        "    return (afficherec(n-1, U0) + n) # Récursivité\n",
        "\n",
        "nbr = int(input('Entrez le nombre de termes'))\n",
        "U0 = int(input('Entrez le premier terme U0 : '))\n",
        "\n",
        "print(f\"Les {nbr} premiers termes de la série sont : \\n\")\n",
        "\n",
        "for j in range (nbr):\n",
        "    print(f\"U{j} = {afficherec(j,U0)}\")"
      ],
      "execution_count": 24,
      "outputs": [
        {
          "output_type": "stream",
          "name": "stdout",
          "text": [
            "Les 10 premiers termes de la série sont : \n\nU0 = 1\nU1 = 2\nU2 = 4\nU3 = 7\nU4 = 11\nU5 = 16\nU6 = 22\nU7 = 29\nU8 = 37\nU9 = 46\n"
          ]
        }
      ]
    },
    {
      "source": [
        "Ex4:\n",
        "On pose Tn=n^2−(n−1)^2 ainsi que Sn=T1+T2+T3+...+Tn.\n",
        "1. Etant donné n, afficher la valeur de Sn."
      ],
      "cell_type": "markdown",
      "metadata": {
        "id": "YbEq1M_BiOdA"
      }
    },
    {
      "cell_type": "code",
      "metadata": {
        "id": "Dv2T6piKiOdB"
      },
      "source": [
        "def Find_Sn(n):\n",
        "    Sn=0\n",
        "    for i in range(1,n+1):\n",
        "        Tn=i**2 - (i-1)**2\n",
        "        Sn+=Tn\n",
        "    return Sn\n",
        "\n",
        "print(Find_Sn(3))"
      ],
      "execution_count": 66,
      "outputs": [
        {
          "output_type": "stream",
          "name": "stdout",
          "text": [
            "9\n"
          ]
        }
      ]
    },
    {
      "cell_type": "markdown",
      "metadata": {
        "id": "yie_sT87iOdF"
      },
      "source": [
        "Ex5:\n",
        "Soit la suite définie par Un+1=0.5.Un et de premier terme U0. Plus la valeur de n augmente, plus les valeurs de Un se rapprochent de 0.\n",
        "\n",
        "Ecrire une fonction qui permet de déterminer pour un réel positif e donné, quel est le plus petit entier n tel que la valeur de Un soit inférieure à e.\n"
      ]
    },
    {
      "cell_type": "code",
      "execution_count": 29,
      "metadata": {},
      "outputs": [
        {
          "output_type": "stream",
          "name": "stdout",
          "text": [
            "Les 10 premiers termes de la série sont : \n\nU0 = 1\nU1 = 0.5\nU2 = 0.25\nU3 = 0.125\nU4 = 0.0625\nU5 = 0.03125\nU6 = 0.015625\nU7 = 0.0078125\nU8 = 0.00390625\nU9 = 0.001953125\n"
          ]
        }
      ],
      "source": [
        "## exo personnel (récursivité)\n",
        "def affiche_suite(n,U0):\n",
        "    \n",
        "\n",
        "    if n == 0:\n",
        "        return U0\n",
        "\n",
        "    return (affiche_suite(n-1, U0) * 0.5)\n",
        "\n",
        "nbr = int(input('Entrez le nombre de termes'))\n",
        "U0 = int(input('Entrez le premier terme U0 : '))\n",
        "\n",
        "print(f\"Les {nbr} premiers termes de la série sont : \\n\")\n",
        "\n",
        "for j in range (nbr):\n",
        "    \n",
        "    print(f\"U{j} = {(affiche_suite(j,U0))}\")\n"
      ]
    },
    {
      "cell_type": "code",
      "execution_count": 30,
      "metadata": {
        "tags": []
      },
      "outputs": [
        {
          "output_type": "stream",
          "name": "stdout",
          "text": [
            "U0 = 1\nU1 = 0.5\nU2 = 0.25\nU3 = 0.125\nU4 = 0.0625\nU5 = 0.03125\nU6 = 0.015625\nU7 = 0.0078125\nU8 = 0.00390625\nU9 = 0.001953125\n"
          ]
        }
      ],
      "source": [
        "##Exo perso : par itération \n",
        "def affiche_suite2(n,U0):\n",
        "    terme1 = U0\n",
        "    prochainTerme = 0\n",
        "    for i in range(0,n):\n",
        "        if (i == 0):\n",
        "            print(f'U{i} = {terme1}')\n",
        "        else:\n",
        "            prochainTerme = terme1 * 0.5\n",
        "            print(f'U{i} = {prochainTerme}')\n",
        "            terme1 = prochainTerme\n",
        "n = int(input('Entrez le nombre de termes'))\n",
        "U0 = int(input('Entrez le premier terme U0'))\n",
        "affiche_suite2(n,U0)\n",
        "\n",
        "\n",
        "\n"
      ]
    },
    {
      "cell_type": "code",
      "execution_count": 31,
      "metadata": {},
      "outputs": [
        {
          "output_type": "error",
          "ename": "TypeError",
          "evalue": "affiche_suite() missing 1 required positional argument: 'U0'",
          "traceback": [
            "\u001b[1;31m---------------------------------------------------------------------------\u001b[0m",
            "\u001b[1;31mTypeError\u001b[0m                                 Traceback (most recent call last)",
            "\u001b[1;32m<ipython-input-31-2295c572cd95>\u001b[0m in \u001b[0;36m<module>\u001b[1;34m\u001b[0m\n\u001b[0;32m      9\u001b[0m \u001b[0me\u001b[0m \u001b[1;33m=\u001b[0m \u001b[0mfloat\u001b[0m\u001b[1;33m(\u001b[0m\u001b[0minput\u001b[0m\u001b[1;33m(\u001b[0m\u001b[1;34m'Donner un réel positif: '\u001b[0m\u001b[1;33m)\u001b[0m\u001b[1;33m)\u001b[0m\u001b[1;33m\u001b[0m\u001b[1;33m\u001b[0m\u001b[0m\n\u001b[0;32m     10\u001b[0m \u001b[0mU0\u001b[0m \u001b[1;33m=\u001b[0m \u001b[0mint\u001b[0m\u001b[1;33m(\u001b[0m\u001b[0minput\u001b[0m\u001b[1;33m(\u001b[0m\u001b[1;34m'Donner la valeur du premier terme U0:'\u001b[0m\u001b[1;33m)\u001b[0m\u001b[1;33m)\u001b[0m\u001b[1;33m\u001b[0m\u001b[1;33m\u001b[0m\u001b[0m\n\u001b[1;32m---> 11\u001b[1;33m \u001b[0mprint\u001b[0m\u001b[1;33m(\u001b[0m\u001b[1;34mf\"le plus petit entier\\033[31m n\\033[0m tel que la valeur de U\\033[31mn\\033[0m soit inférieure à \\033[1m {e}\\033[0m vaut\\033[31m {find_n(e,U0)}\\033[0m et U\\033[31m{find_n(e,U0)}\\033[0m vaut\\033[92m {affiche_suite(find_n(e,U0))}\"\u001b[0m\u001b[1;33m)\u001b[0m\u001b[1;33m\u001b[0m\u001b[1;33m\u001b[0m\u001b[0m\n\u001b[0m",
            "\u001b[1;31mTypeError\u001b[0m: affiche_suite() missing 1 required positional argument: 'U0'"
          ]
        }
      ],
      "source": [
        "def find_n(e,U0):\n",
        "    n = 1\n",
        "    Un = 0.5 * U0\n",
        "    while (Un >= e):\n",
        "        n+=1\n",
        "        Un =  Un * 0.5\n",
        "    return n \n",
        "\n",
        "e = float(input('Donner un réel positif: '))\n",
        "U0 = int(input('Donner la valeur du premier terme U0:'))\n",
        "print(f\"le plus petit entier\\033[31m n\\033[0m tel que la valeur de U\\033[31mn\\033[0m soit inférieure à \\033[1m {e}\\033[0m vaut\\033[31m {find_n(e,U0)}\\033[0m et U\\033[31m{find_n(e,U0)}\\033[0m vaut\\033[92m {affiche_suite(find_n(e,U0),U0)}\")\n"
      ]
    },
    {
      "source": [
        "Ex6: Constante K de Catalan : https://fr.wikipedia.org/wiki/Constante_de_Catalan Ecrire une fonction qui permet de retourner une valeur approchée de la constante K et en s’arrêtant dès que la valeur absolue de la différence entre deux somme successives devienne inférieure ou égale à une erreur epsilon donnée en paramètre."
      ],
      "cell_type": "markdown",
      "metadata": {}
    },
    {
      "cell_type": "code",
      "metadata": {
        "id": "jKVKFdLDiOdO"
      },
      "source": [
        "import numpy as np\n",
        "def cal_K(epsilon):\n",
        "    \n",
        "    kold=((-1)**0)/(1)\n",
        "    knew=((-1)**1)/(9)+kold\n",
        "    n=1\n",
        "    while(np.abs(knew-kold)>epsilon):\n",
        "        n=n+1\n",
        "        kold=knew\n",
        "        knew=knew+((-1)**n)/((2*n+1)**2)\n",
        "    \n",
        "    return(knew)\n",
        "\n",
        "print(cal_K(0.000000001))"
      ],
      "execution_count": 1,
      "outputs": [
        {
          "output_type": "stream",
          "name": "stdout",
          "text": [
            "0.9159655936772525\n"
          ]
        }
      ]
    },
    {
      "cell_type": "markdown",
      "metadata": {
        "id": "w1DQqWufiOdS"
      },
      "source": [
        "Ex 7:\n",
        "Ecrivez une fonction permettant de calculer la limite à epsilon près de la suite définie par la relation de récurrence :\n",
        "\n",
        "U0 =2\n",
        "Un+1= Un + 2/Un  , n>0.\n",
        "\n",
        "On arrête d’itérer quand l’intervalle entre 2 termes consécutifs devient strictement inférieur à epsilon."
      ]
    },
    {
      "cell_type": "code",
      "execution_count": 4,
      "metadata": {},
      "outputs": [
        {
          "output_type": "stream",
          "name": "stdout",
          "text": [
            "3.6666666666666665\n"
          ]
        }
      ],
      "source": [
        "def limite(epsilon):\n",
        "    U0 = 2\n",
        "    Un = U0+2/U0\n",
        "    while abs(Un-U0) >= epsilon:\n",
        "        U0 = Un\n",
        "        Un = U0+2/U0\n",
        "    return Un\n",
        " \n",
        " \n",
        "print(limite(1))"
      ]
    },
    {
      "cell_type": "code",
      "execution_count": null,
      "metadata": {},
      "outputs": [],
      "source": []
    }
  ]
}